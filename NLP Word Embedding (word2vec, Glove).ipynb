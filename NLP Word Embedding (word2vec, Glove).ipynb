{
 "cells": [
  {
   "cell_type": "markdown",
   "metadata": {},
   "source": [
    "## Word_embedding"
   ]
  },
  {
   "cell_type": "markdown",
   "metadata": {},
   "source": [
    "## Word2Vec"
   ]
  },
  {
   "cell_type": "code",
   "execution_count": 1,
   "metadata": {},
   "outputs": [],
   "source": [
    "#!pip install gensim"
   ]
  },
  {
   "cell_type": "code",
   "execution_count": 2,
   "metadata": {},
   "outputs": [
    {
     "name": "stderr",
     "output_type": "stream",
     "text": [
      "C:\\Users\\NIO\\Anaconda3\\lib\\site-packages\\gensim\\similarities\\__init__.py:15: UserWarning: The gensim.similarities.levenshtein submodule is disabled, because the optional Levenshtein package <https://pypi.org/project/python-Levenshtein/> is unavailable. Install Levenhstein (e.g. `pip install python-Levenshtein`) to suppress this warning.\n",
      "  warnings.warn(msg)\n"
     ]
    }
   ],
   "source": [
    "import numpy as np\n",
    "from gensim.models import Word2Vec"
   ]
  },
  {
   "cell_type": "code",
   "execution_count": 3,
   "metadata": {},
   "outputs": [],
   "source": [
    "text = open(\"hurriyet.txt\", \"r\", encoding=\"utf8\") #to read Turkish characters utf8\n",
    "text = text.read()\n",
    "list_sent = text.split(\"\\n\")\n",
    "\n",
    "corpus = []\n",
    "\n",
    "for sent in list_sent:\n",
    "    corpus.append(sent.split()) #to tokenize all sentences "
   ]
  },
  {
   "cell_type": "code",
   "execution_count": 4,
   "metadata": {},
   "outputs": [
    {
     "name": "stdout",
     "output_type": "stream",
     "text": [
      "[['iran', 'devlet', 'televizyonu', 'ülkedeki', 'eyaletin', 'sinde', 'yapılan', 'reformcuları', 'protesto', 'amaçlı', 'yürüyüşlere', 'milyonlarca', 'kişinin', 'katıldığını', 'bildirdi'], ['gösterilerde', 'fitnecilere', 'ölüm', 'münafıklara', 'ölüm', 'abd', 'ye', 'ölüm', 'ingiltere', 'ye', 'ölüm', 'sloganları', 'atıldı'], ['dini', 'lider', 'ali', 'hamaney', 've', 'cumhurbaşkanı', 'mahmud', 'ahmedinejad', 'ı', 'destekleyen', 'iranlılar', 'son', 'olaylarda', 'yeğeni', 'öldürülen', 'mir', 'hüseyin', 'musevi', 'başta', 'olmak', 'üzere', 'muhalefet', 'liderlerini', 'kınadılar'], ['musevi', 'ye', 'ölüm', 've', 'idam', 'idam', 'sloganları', 'duyuldu'], ['muhalefet', 'liderleri', 'kaçtı', 'mı', 'aşure', 'günü', 'yaşanan', 'çatışmalarda', 'devlet', 'kaynaklarına', 'göre', 'u', 'terörist', 'olmak', 'üzere', 'kişi', 'ölmüştü']]\n"
     ]
    }
   ],
   "source": [
    "print(corpus[:5])"
   ]
  },
  {
   "cell_type": "code",
   "execution_count": 5,
   "metadata": {},
   "outputs": [],
   "source": [
    "model = Word2Vec(corpus, vector_size=100, window=5, min_count=5, sg=1) "
   ]
  },
  {
   "cell_type": "code",
   "execution_count": 6,
   "metadata": {},
   "outputs": [
    {
     "data": {
      "text/plain": [
       "array([-0.006528  , -0.34988838, -0.41304484,  0.24886739,  0.53812104,\n",
       "        0.014299  , -0.33686683,  0.66373926, -0.04709607, -0.28975657,\n",
       "       -0.13842006, -0.1643207 , -0.10180734,  0.42258787, -0.35319498,\n",
       "        0.41283724,  0.35847   , -0.47491747,  0.34282458, -0.6123767 ,\n",
       "       -0.19497885,  0.2675957 ,  0.7649221 , -0.6282083 ,  0.00394719,\n",
       "        0.18747132, -0.23057163, -0.13416971, -0.29536602,  0.6506588 ,\n",
       "        0.43952805,  0.26050788,  0.08458353, -0.3183914 ,  0.20699623,\n",
       "       -0.22564794, -0.32140893, -0.01584644,  0.04227111, -0.5370169 ,\n",
       "        0.61041325, -0.14559862,  0.4036896 , -0.11400597,  0.35833412,\n",
       "        0.01260515, -0.32050565, -0.1437607 ,  0.06413251, -0.08756118,\n",
       "       -0.09256361, -0.14475821,  0.13770147, -0.2956402 , -0.22936995,\n",
       "       -0.26611188, -0.10469997,  0.2106493 , -0.4728064 , -0.55667907,\n",
       "       -0.1420584 ,  0.20996796,  0.07586247,  0.25256318, -0.10660539,\n",
       "        0.06926982,  0.15462638,  0.11331982, -0.24774693, -0.05729105,\n",
       "       -0.23971109, -0.05014316,  0.26554537, -0.24276924,  0.27739352,\n",
       "        0.04066651,  0.03088658, -0.00877005, -0.29680866, -0.05396404,\n",
       "        0.64860994, -0.6951349 ,  0.1306109 ,  0.80333185,  0.5067465 ,\n",
       "       -0.26688838,  0.29907325,  0.6396681 ,  0.6356269 ,  0.3836247 ,\n",
       "        0.8643408 , -0.01995187,  0.49787548,  0.28811705,  0.5128755 ,\n",
       "       -0.15951668,  0.21719608, -0.16117032,  0.24164265,  0.04302192],\n",
       "      dtype=float32)"
      ]
     },
     "execution_count": 6,
     "metadata": {},
     "output_type": "execute_result"
    }
   ],
   "source": [
    "model.wv[\"ankara\"]"
   ]
  },
  {
   "cell_type": "code",
   "execution_count": 7,
   "metadata": {},
   "outputs": [
    {
     "data": {
      "text/plain": [
       "[('bastille', 0.8723815679550171),\n",
       " ('etkinliklerinde', 0.8596552610397339),\n",
       " ('namazında', 0.8576348423957825),\n",
       " ('kutlamalarının', 0.8546784520149231),\n",
       " ('arefesinde', 0.8538873195648193),\n",
       " ('kılınacak', 0.8495970368385315),\n",
       " ('kutlanan', 0.849101722240448),\n",
       " ('defnedilecek', 0.8480429649353027),\n",
       " ('karnavalın', 0.8475009799003601),\n",
       " ('namazının', 0.8445078730583191)]"
      ]
     },
     "execution_count": 7,
     "metadata": {},
     "output_type": "execute_result"
    }
   ],
   "source": [
    "model.wv.most_similar(\"aşure\")"
   ]
  },
  {
   "cell_type": "code",
   "execution_count": 8,
   "metadata": {},
   "outputs": [
    {
     "data": {
      "text/plain": [
       "[('marmara', 0.8888925313949585),\n",
       " ('gemisine', 0.7181481719017029),\n",
       " ('baskınıyla', 0.6697176098823547),\n",
       " ('baskınına', 0.6389877200126648),\n",
       " ('filosundaki', 0.6369787454605103),\n",
       " ('gemisindeki', 0.6297749876976013),\n",
       " ('saldırısındaki', 0.6297177076339722),\n",
       " ('baskınının', 0.6286075711250305),\n",
       " ('filo', 0.6271186470985413),\n",
       " ('baskınından', 0.6184271574020386)]"
      ]
     },
     "execution_count": 8,
     "metadata": {},
     "output_type": "execute_result"
    }
   ],
   "source": [
    "model.wv.most_similar(\"mavi\")"
   ]
  },
  {
   "cell_type": "markdown",
   "metadata": {},
   "source": [
    "## Glove"
   ]
  },
  {
   "cell_type": "code",
   "execution_count": 9,
   "metadata": {},
   "outputs": [],
   "source": [
    "from gensim.scripts.glove2word2vec import glove2word2vec\n",
    "from gensim.models import KeyedVectors"
   ]
  },
  {
   "cell_type": "code",
   "execution_count": 10,
   "metadata": {
    "scrolled": true
   },
   "outputs": [
    {
     "name": "stderr",
     "output_type": "stream",
     "text": [
      "<ipython-input-10-13532bdbca52>:3: DeprecationWarning: Call to deprecated `glove2word2vec` (KeyedVectors.load_word2vec_format(.., binary=False, no_header=True) loads GLoVE text vectors.).\n",
      "  glove2word2vec(glove_model, word2vec)\n"
     ]
    },
    {
     "data": {
      "text/plain": [
       "(400000, 100)"
      ]
     },
     "execution_count": 10,
     "metadata": {},
     "output_type": "execute_result"
    }
   ],
   "source": [
    "glove_model = \"glove.6B.100d.txt\"\n",
    "word2vec = \"glove.6B.100d.word2vec\"\n",
    "glove2word2vec(glove_model, word2vec)"
   ]
  },
  {
   "cell_type": "code",
   "execution_count": 11,
   "metadata": {},
   "outputs": [],
   "source": [
    "model2 = KeyedVectors.load_word2vec_format(word2vec)"
   ]
  },
  {
   "cell_type": "code",
   "execution_count": 12,
   "metadata": {},
   "outputs": [
    {
     "data": {
      "text/plain": [
       "[('red', 0.8435065150260925),\n",
       " ('black', 0.8065882325172424),\n",
       " ('pink', 0.786806046962738),\n",
       " ('green', 0.7868044376373291),\n",
       " ('purple', 0.7847141623497009),\n",
       " ('yellow', 0.7777267098426819),\n",
       " ('gray', 0.7732226252555847),\n",
       " ('bright', 0.743113100528717),\n",
       " ('white', 0.7365070581436157),\n",
       " ('dark', 0.7170192003250122)]"
      ]
     },
     "execution_count": 12,
     "metadata": {},
     "output_type": "execute_result"
    }
   ],
   "source": [
    "model2.most_similar(\"blue\")"
   ]
  },
  {
   "cell_type": "code",
   "execution_count": 13,
   "metadata": {},
   "outputs": [
    {
     "data": {
      "text/plain": [
       "[('physician', 0.7673239707946777),\n",
       " ('nurse', 0.75215083360672),\n",
       " ('dr.', 0.7175194025039673),\n",
       " ('doctors', 0.7080884575843811),\n",
       " ('patient', 0.7074184417724609),\n",
       " ('medical', 0.6995992660522461),\n",
       " ('surgeon', 0.6905338168144226),\n",
       " ('hospital', 0.6900930404663086),\n",
       " ('psychiatrist', 0.658909797668457),\n",
       " ('dentist', 0.6447421312332153)]"
      ]
     },
     "execution_count": 13,
     "metadata": {},
     "output_type": "execute_result"
    }
   ],
   "source": [
    "model2.most_similar(\"doctor\")"
   ]
  },
  {
   "cell_type": "code",
   "execution_count": 14,
   "metadata": {},
   "outputs": [
    {
     "data": {
      "text/plain": [
       "[('mother', 0.9024619460105896)]"
      ]
     },
     "execution_count": 14,
     "metadata": {},
     "output_type": "execute_result"
    }
   ],
   "source": [
    "model2.most_similar(positive=[\"woman\", \"father\"], negative=[\"man\"], topn=1)"
   ]
  },
  {
   "cell_type": "code",
   "execution_count": 15,
   "metadata": {},
   "outputs": [
    {
     "data": {
      "text/plain": [
       "[('daughter', 0.8917792439460754)]"
      ]
     },
     "execution_count": 15,
     "metadata": {},
     "output_type": "execute_result"
    }
   ],
   "source": [
    "model2.most_similar(positive=[\"woman\", \"brother\"], negative=[\"man\"], topn=1)"
   ]
  },
  {
   "cell_type": "code",
   "execution_count": 16,
   "metadata": {},
   "outputs": [
    {
     "data": {
      "text/plain": [
       "[('turkey', 0.81471186876297)]"
      ]
     },
     "execution_count": 16,
     "metadata": {},
     "output_type": "execute_result"
    }
   ],
   "source": [
    "model2.most_similar(positive=[\"ankara\", \"germany\"], negative=[\"berlin\"], topn=1)"
   ]
  }
 ],
 "metadata": {
  "kernelspec": {
   "display_name": "Python 3",
   "language": "python",
   "name": "python3"
  },
  "language_info": {
   "codemirror_mode": {
    "name": "ipython",
    "version": 3
   },
   "file_extension": ".py",
   "mimetype": "text/x-python",
   "name": "python",
   "nbconvert_exporter": "python",
   "pygments_lexer": "ipython3",
   "version": "3.8.5"
  }
 },
 "nbformat": 4,
 "nbformat_minor": 2
}
